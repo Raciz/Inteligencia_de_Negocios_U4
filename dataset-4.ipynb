{
 "cells": [
  {
   "cell_type": "code",
   "execution_count": null,
   "metadata": {},
   "outputs": [],
   "source": [
    "# -*- coding: utf-8 -*-\n",
    "\n",
    "#importacion de los modulos nesesarios para el script\n",
    "import sys, os\n",
    "import pandas as pd"
   ]
  },
  {
   "cell_type": "code",
   "execution_count": null,
   "metadata": {},
   "outputs": [],
   "source": [
    "#lista con el nombre de las fuerza policiacas\n",
    "forces = os.listdir(\"./CrimesUK_2011_2017/2011-01\")\n",
    "\n",
    "#borramos lo necesario para quedarnos solo con el nombre de la fuerza\n",
    "for i in range(len(forces)):\n",
    "    forces[i] = forces[i][8:-11]\n",
    "\n",
    "#lista con el nombre de todos los crimenes\n",
    "crimes =['Burglary','Public order','Shoplifting','Drugs','Public disorder and weapons','Other crime','Anti-social behaviour','Other theft','Bicycle theft','Violent crime','Robbery','Vehicle crime','Violence and sexual offences','Criminal damage and arson','Theft from the person','Possession of weapons']\n",
    "\n",
    "#lista para sumar los crimenes reportados de cada fuerza policiaca por cada tipo de crimen \n",
    "forcesTypeCrimes = [0] * len(forces)\n",
    "for i in range(len(forces)):\n",
    "    forcesTypeCrimes[i] = [0] * len(crimes) "
   ]
  },
  {
   "cell_type": "code",
   "execution_count": null,
   "metadata": {},
   "outputs": [],
   "source": [
    "#ciclo para abrir recorrer los archivos por año\n",
    "for i in [\"2011-\",\"2012-\",\"2013-\",\"2014-\",\"2015-\",\"2016-\",\"2017-\"]:\n",
    "    #ciclo para abrir los archivos mes por mes\n",
    "    for j in [\"01\",\"02\",\"03\",\"04\",\"05\",\"06\",\"07\",\"08\",\"09\",\"10\",\"11\",\"12\"]:\n",
    "        #ciclo para abrir los archivos fuerza por fuerza \n",
    "        for k in range(len(forces)):\n",
    "            \n",
    "            #abrimos el archivo mediantes pandas para obtener un dataframe\n",
    "            dataset = pd.read_csv(\"./CrimesUK_2011_2017/\"+i+j+\"/\"+i+j+\"-\"+forces[k]+\"-street.csv\", header=0)\n",
    "    \n",
    "            #for para contar para un archivo el numero de crimen registrado para cada uno de los crimenes\n",
    "            for l in range(len(crimes)):\n",
    "                #contamos el numero de filas del dataFrame y lo sumamos en su posicion correspodiente a la fuerza \n",
    "                #y el tipo de crimen\n",
    "                forcesTypeCrimes[k][l] += len(dataset[dataset[\"Crime type\"] == crimes[l]])"
   ]
  },
  {
   "cell_type": "code",
   "execution_count": null,
   "metadata": {},
   "outputs": [],
   "source": [
    "#convertimo la matriz Q7 en un dataframe\n",
    "Q7dataFrame = pd.DataFrame(forcesTypeCrimes,index=forces)\n",
    "\n",
    "#y exportamos su informacion a un csv\n",
    "Q7dataFrame.to_csv(\"./dataset-4.csv\",header=False)"
   ]
  },
  {
   "cell_type": "code",
   "execution_count": null,
   "metadata": {},
   "outputs": [],
   "source": []
  }
 ],
 "metadata": {
  "kernelspec": {
   "display_name": "Python 2",
   "language": "python",
   "name": "python2"
  },
  "language_info": {
   "codemirror_mode": {
    "name": "ipython",
    "version": 2
   },
   "file_extension": ".py",
   "mimetype": "text/x-python",
   "name": "python",
   "nbconvert_exporter": "python",
   "pygments_lexer": "ipython2",
   "version": "2.7.15"
  }
 },
 "nbformat": 4,
 "nbformat_minor": 2
}
